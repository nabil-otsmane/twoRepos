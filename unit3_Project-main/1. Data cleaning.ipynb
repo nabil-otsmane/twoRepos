{
 "cells": [
  {
   "cell_type": "markdown",
   "id": "b5349838",
   "metadata": {},
   "source": [
    "<img src=\"Logo.png\" width=\"100\" align=\"left\"/> \n",
    "\n",
    "# <center> Unit 3 Project </center>\n",
    "#  <center> First section : Data cleaning  </center>\n",
    "\n",
    "In this notebook you will be cleaning your dataset and making sure it's fully ready for modeling.\n",
    "\n",
    "The used dataset is [Hepatitis C  dataset](https://www.kaggle.com/fedesoriano/hepatitis-c-dataset)"
   ]
  },
  {
   "cell_type": "markdown",
   "id": "c3a880ce",
   "metadata": {},
   "source": [
    "## Data preparation \n",
    "As a first step we need to prepare the data :\n",
    "\n",
    "1. Read the data set as a data frame ( file name is HepatitisCdata.csv) \n",
    "2. The here are the column of your dataset:\n",
    "    1) X (Patient ID/No.)\n",
    "    2) Category (diagnosis) (values: '0=Blood Donor', '0s=suspect Blood Donor', '1=Hepatitis', '2=Fibrosis', '3=Cirrhosis') ( the target ) \n",
    "    3) Age (in years)\n",
    "    4) Sex (f,m)\n",
    "    Attributes 5 to 14 refer to laboratory data:\n",
    "    5) ALB : Albumin Blood Test\n",
    "    6) ALP : Alkaline phosphatase\n",
    "    7) ALT : Alanine Transaminase\n",
    "    8) AST : Aspartate Transaminase\n",
    "    9) BIL : Bilirubin\n",
    "    10) CHE : Acetylcholinesterase\n",
    "    11) CHOL : Cholesterol\n",
    "    12) CREA : Creatinine \n",
    "    13) GGT : Gamma-Glutamyl Transferase\n",
    "    14) PROT : Proteins\n",
    "    \n",
    "3. Remember your model only accepts numbers so make sure you deal properly with the missing values and the data types and justify your solution choices \n",
    " \n",
    "4. Make sure the dataset shape in the end is : rows 615 and  14 columns \n",
    " \n",
    "5. Once finished save the cleaned dataset as \"clean_HepatitisC.csv\" file \n",
    " "
   ]
  },
  {
   "cell_type": "code",
   "execution_count": 2,
   "id": "7ef3a82c",
   "metadata": {},
   "outputs": [],
   "source": [
    "import pandas as pd \n",
    "import numpy as np "
   ]
  },
  {
   "cell_type": "code",
   "execution_count": 3,
   "id": "b75c3ac8",
   "metadata": {},
   "outputs": [],
   "source": [
    "#To-Do: read the dataset \n",
    "data = pd.read_csv(\"HepatitisCdata.csv\")"
   ]
  },
  {
   "cell_type": "code",
   "execution_count": 4,
   "id": "690a3bdc",
   "metadata": {
    "scrolled": true
   },
   "outputs": [
    {
     "name": "stdout",
     "output_type": "stream",
     "text": [
      "<class 'pandas.core.frame.DataFrame'>\n",
      "RangeIndex: 615 entries, 0 to 614\n",
      "Data columns (total 14 columns):\n",
      " #   Column      Non-Null Count  Dtype  \n",
      "---  ------      --------------  -----  \n",
      " 0   Unnamed: 0  615 non-null    int64  \n",
      " 1   Category    615 non-null    object \n",
      " 2   Age         615 non-null    int64  \n",
      " 3   Sex         615 non-null    object \n",
      " 4   ALB         614 non-null    float64\n",
      " 5   ALP         597 non-null    float64\n",
      " 6   ALT         614 non-null    float64\n",
      " 7   AST         615 non-null    float64\n",
      " 8   BIL         615 non-null    float64\n",
      " 9   CHE         615 non-null    float64\n",
      " 10  CHOL        605 non-null    float64\n",
      " 11  CREA        615 non-null    float64\n",
      " 12  GGT         615 non-null    float64\n",
      " 13  PROT        614 non-null    float64\n",
      "dtypes: float64(10), int64(2), object(2)\n",
      "memory usage: 67.4+ KB\n"
     ]
    }
   ],
   "source": [
    "data.info()"
   ]
  },
  {
   "cell_type": "markdown",
   "id": "b0444d7d",
   "metadata": {},
   "source": [
    "# To-Do  Start investigating the data types and correcting that \n"
   ]
  },
  {
   "cell_type": "markdown",
   "id": "d636af21",
   "metadata": {},
   "source": [
    "* As we see, we have 2 categorical attributes: Category and Sex\n",
    "* Then, we will check how many categories there are in each attribute, that will help us to convert them into numerical values using dictionnary "
   ]
  },
  {
   "cell_type": "code",
   "execution_count": 6,
   "id": "c31e092a",
   "metadata": {},
   "outputs": [
    {
     "data": {
      "text/plain": [
       "array(['m', 'f'], dtype=object)"
      ]
     },
     "execution_count": 6,
     "metadata": {},
     "output_type": "execute_result"
    }
   ],
   "source": [
    "data.Sex.unique()"
   ]
  },
  {
   "cell_type": "code",
   "execution_count": 5,
   "id": "24edb977",
   "metadata": {},
   "outputs": [
    {
     "data": {
      "text/plain": [
       "array(['0=Blood Donor', '0s=suspect Blood Donor', '1=Hepatitis',\n",
       "       '2=Fibrosis', '3=Cirrhosis'], dtype=object)"
      ]
     },
     "execution_count": 5,
     "metadata": {},
     "output_type": "execute_result"
    }
   ],
   "source": [
    "data.Category.unique()"
   ]
  },
  {
   "cell_type": "markdown",
   "id": "6bb064de",
   "metadata": {},
   "source": [
    "* Here, we will use dictionnary to define new features with numerical values and then we will replace them in our data "
   ]
  },
  {
   "cell_type": "code",
   "execution_count": 13,
   "id": "2e54270c",
   "metadata": {},
   "outputs": [],
   "source": [
    "numerical_Sex ={\"Sex\": {\"m\":0, \"f\": 1}}\n",
    "numerical_Category={\"0=Blood Donor\": 1,\"0s=suspect Blood Donor\": 1, \"1=Hepatitis\":2,\"2=Fibrosis\":3, \"3=Cirrhosis\":4  }"
   ]
  },
  {
   "cell_type": "code",
   "execution_count": 14,
   "id": "37f86c72",
   "metadata": {},
   "outputs": [],
   "source": [
    "data=data.replace(numerical_Sex)\n",
    "data=data.replace(numerical_Category)"
   ]
  },
  {
   "cell_type": "code",
   "execution_count": 15,
   "id": "16f9679b",
   "metadata": {},
   "outputs": [
    {
     "data": {
      "text/plain": [
       "array([0, 1], dtype=int64)"
      ]
     },
     "execution_count": 15,
     "metadata": {},
     "output_type": "execute_result"
    }
   ],
   "source": [
    "data.Sex.unique()"
   ]
  },
  {
   "cell_type": "code",
   "execution_count": 16,
   "id": "0dd0cf18",
   "metadata": {},
   "outputs": [
    {
     "data": {
      "text/plain": [
       "array([1, 2, 3, 4], dtype=int64)"
      ]
     },
     "execution_count": 16,
     "metadata": {},
     "output_type": "execute_result"
    }
   ],
   "source": [
    "data.Category.unique()"
   ]
  },
  {
   "cell_type": "markdown",
   "id": "0750df89",
   "metadata": {},
   "source": [
    "* Now, we are sure that we have only numerical attributes"
   ]
  },
  {
   "cell_type": "markdown",
   "id": "801d1a20",
   "metadata": {},
   "source": [
    "> Data types are all numeric Now ! Next we need to deal with missing values for the feature columns "
   ]
  },
  {
   "cell_type": "markdown",
   "id": "0524721b",
   "metadata": {
    "scrolled": true
   },
   "source": [
    "#To-Do list all the columns that contain missing values along with their counts "
   ]
  },
  {
   "cell_type": "code",
   "execution_count": null,
   "id": "775f0b44",
   "metadata": {},
   "outputs": [],
   "source": [
    "# To-Do Start providing solutions for each column that has missing data \n",
    "# Treat each case seperately \n",
    "# Hint : no data row should be deleted \n",
    "# Provide evidence that you filled those missing values after each step "
   ]
  },
  {
   "cell_type": "markdown",
   "id": "f75a64d0",
   "metadata": {},
   "source": [
    "Detect missing values:\n",
    "df. isna(). sum() returns the number of missing values in each column."
   ]
  },
  {
   "cell_type": "code",
   "execution_count": 18,
   "id": "803863a6",
   "metadata": {},
   "outputs": [
    {
     "data": {
      "text/plain": [
       "Unnamed: 0     0\n",
       "Category       0\n",
       "Age            0\n",
       "Sex            0\n",
       "ALB            1\n",
       "ALP           18\n",
       "ALT            1\n",
       "AST            0\n",
       "BIL            0\n",
       "CHE            0\n",
       "CHOL          10\n",
       "CREA           0\n",
       "GGT            0\n",
       "PROT           1\n",
       "dtype: int64"
      ]
     },
     "execution_count": 18,
     "metadata": {},
     "output_type": "execute_result"
    }
   ],
   "source": [
    "data.isna().sum()"
   ]
  },
  {
   "cell_type": "markdown",
   "id": "456ebf09",
   "metadata": {},
   "source": [
    "So features having missing values are: ALB, ALP, ALT, CHOL, PROT\n",
    "\n",
    "\n",
    "\n",
    "Since, no data row should be deleted, we will use Imputation: mean (numerical data) else mediand and  mode \n",
    "    df[\"Name\"].filln(df[\"Name\"].mean(), inplace=True)"
   ]
  },
  {
   "cell_type": "code",
   "execution_count": 22,
   "id": "33a2243e",
   "metadata": {},
   "outputs": [
    {
     "data": {
      "text/plain": [
       "0"
      ]
     },
     "execution_count": 22,
     "metadata": {},
     "output_type": "execute_result"
    }
   ],
   "source": [
    "data[\"ALB\"].fillna(data[\"ALB\"].mean(), inplace=True)\n",
    "# we will verify if there is no missing value in this attribute \n",
    "data.ALB.isna().sum()"
   ]
  },
  {
   "cell_type": "code",
   "execution_count": 23,
   "id": "371efada",
   "metadata": {},
   "outputs": [
    {
     "data": {
      "text/plain": [
       "0"
      ]
     },
     "execution_count": 23,
     "metadata": {},
     "output_type": "execute_result"
    }
   ],
   "source": [
    "data[\"ALP\"].fillna(data[\"ALP\"].mean(), inplace=True)\n",
    "# we will verify if there is no missing value in this attribute \n",
    "data.ALP.isna().sum()"
   ]
  },
  {
   "cell_type": "code",
   "execution_count": 24,
   "id": "e30a1342",
   "metadata": {},
   "outputs": [
    {
     "data": {
      "text/plain": [
       "0"
      ]
     },
     "execution_count": 24,
     "metadata": {},
     "output_type": "execute_result"
    }
   ],
   "source": [
    "data[\"CHOL\"].fillna(data[\"CHOL\"].mean(), inplace=True)\n",
    "# we will verify if there is no missing value in this attribute \n",
    "data.CHOL.isna().sum()"
   ]
  },
  {
   "cell_type": "code",
   "execution_count": 25,
   "id": "bfed507c",
   "metadata": {},
   "outputs": [
    {
     "data": {
      "text/plain": [
       "0"
      ]
     },
     "execution_count": 25,
     "metadata": {},
     "output_type": "execute_result"
    }
   ],
   "source": [
    "data[\"PROT\"].fillna(data[\"PROT\"].mean(), inplace=True)\n",
    "# we will verify if there is no missing value in this attribute \n",
    "data.PROT.isna().sum()"
   ]
  },
  {
   "cell_type": "markdown",
   "id": "9dbb1158",
   "metadata": {},
   "source": [
    "> We have no more missing data\n",
    "As an optional thing we can also rename the first column as 'index' or \"ID\" instead of Unnamed "
   ]
  },
  {
   "cell_type": "code",
   "execution_count": 26,
   "id": "bd552319",
   "metadata": {},
   "outputs": [
    {
     "data": {
      "text/plain": [
       "Index(['Unnamed: 0', 'Category', 'Age', 'Sex', 'ALB', 'ALP', 'ALT', 'AST',\n",
       "       'BIL', 'CHE', 'CHOL', 'CREA', 'GGT', 'PROT'],\n",
       "      dtype='object')"
      ]
     },
     "execution_count": 26,
     "metadata": {},
     "output_type": "execute_result"
    }
   ],
   "source": [
    "data.columns"
   ]
  },
  {
   "cell_type": "code",
   "execution_count": 27,
   "id": "255cb6a7",
   "metadata": {},
   "outputs": [],
   "source": [
    "data.rename(columns={'Unnamed: 0': \"ID\"}, inplace=True)"
   ]
  },
  {
   "cell_type": "code",
   "execution_count": 28,
   "id": "f63998c3",
   "metadata": {},
   "outputs": [
    {
     "data": {
      "text/plain": [
       "Index(['ID', 'Category', 'Age', 'Sex', 'ALB', 'ALP', 'ALT', 'AST', 'BIL',\n",
       "       'CHE', 'CHOL', 'CREA', 'GGT', 'PROT'],\n",
       "      dtype='object')"
      ]
     },
     "execution_count": 28,
     "metadata": {},
     "output_type": "execute_result"
    }
   ],
   "source": [
    "data.columns"
   ]
  },
  {
   "cell_type": "markdown",
   "id": "380f2464",
   "metadata": {},
   "source": [
    "### 6. Save the clean dataset :"
   ]
  },
  {
   "cell_type": "code",
   "execution_count": 30,
   "id": "5b7d623f",
   "metadata": {},
   "outputs": [],
   "source": [
    "# Don't forget to drop the index \n",
    "data.to_csv('Saved/DataCleaning.csv', index=False)\n"
   ]
  },
  {
   "cell_type": "code",
   "execution_count": null,
   "id": "b9c9af0b",
   "metadata": {},
   "outputs": [],
   "source": []
  }
 ],
 "metadata": {
  "kernelspec": {
   "display_name": "Python 3 (ipykernel)",
   "language": "python",
   "name": "python3"
  },
  "language_info": {
   "codemirror_mode": {
    "name": "ipython",
    "version": 3
   },
   "file_extension": ".py",
   "mimetype": "text/x-python",
   "name": "python",
   "nbconvert_exporter": "python",
   "pygments_lexer": "ipython3",
   "version": "3.9.7"
  }
 },
 "nbformat": 4,
 "nbformat_minor": 5
}
