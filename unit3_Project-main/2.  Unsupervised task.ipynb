{
 "cells": [
  {
   "cell_type": "markdown",
   "id": "4770b9d0",
   "metadata": {},
   "source": [
    "<img src=\"Logo.png\" width=\"100\" align=\"left\"/> \n",
    "\n",
    "# <center> Unit 3 Project </center>\n",
    "#  <center> Second section : Unsupervised task </center>\n",
    "\n",
    "\n",
    "In this notebook you will be building and training an unsupervised learning model to cluster your data. \n"
   ]
  },
  {
   "cell_type": "markdown",
   "id": "92f59c31",
   "metadata": {},
   "source": [
    "For this task we will be using another clustering method called \"Agglomerative Clustering\" For this task : \n",
    "It's a hierarchical clustering method. The main idea is to merge examples until the desired number of clusters is achieved. \n",
    " \n",
    " Steps for this task: \n",
    " 1. Load the already clean dataset \n",
    " 2. Take into consideration that in this task we will not be using the target variable \"Category\" as we are trying to cluster the data. \n",
    " \n",
    " 3. Cluster numbers should be equal to the number of categories we have \n",
    " 4. We will add those clusters numbers as a feature (column in our dataset) \n",
    " 5. Build your model using the SKlearn AgglomerativeClustering class \n",
    " 6. Cluster your data and that as a column to your dataset\n",
    " 5. Save the new dataset with the additional column as \"clustered_HepatitisC.csv\" \n"
   ]
  },
  {
   "cell_type": "markdown",
   "id": "d985d311",
   "metadata": {},
   "source": [
    "## 1. Loading the data \n",
    "1. Load the clean data \n",
    "2. Keep only the needed **Columns**"
   ]
  },
  {
   "cell_type": "code",
   "execution_count": 1,
   "id": "69469031",
   "metadata": {},
   "outputs": [],
   "source": [
    "import pandas as pd \n",
    "from sklearn.cluster import AgglomerativeClustering"
   ]
  },
  {
   "cell_type": "code",
   "execution_count": 9,
   "id": "f4004a85",
   "metadata": {},
   "outputs": [
    {
     "ename": "NameError",
     "evalue": "name 'datasets_AgglomerativeClustering' is not defined",
     "output_type": "error",
     "traceback": [
      "\u001b[1;31m---------------------------------------------------------------------------\u001b[0m",
      "\u001b[1;31mNameError\u001b[0m                                 Traceback (most recent call last)",
      "\u001b[1;32m~\\AppData\\Local\\Temp/ipykernel_15716/2943383753.py\u001b[0m in \u001b[0;36m<module>\u001b[1;34m\u001b[0m\n\u001b[0;32m      1\u001b[0m \u001b[1;31m# Load the dataset\u001b[0m\u001b[1;33m\u001b[0m\u001b[1;33m\u001b[0m\u001b[0m\n\u001b[1;32m----> 2\u001b[1;33m \u001b[0mdf\u001b[0m \u001b[1;33m=\u001b[0m \u001b[0mdatasets_AgglomerativeClustering\u001b[0m\u001b[1;33m(\u001b[0m\u001b[1;33m)\u001b[0m\u001b[1;33m\u001b[0m\u001b[1;33m\u001b[0m\u001b[0m\n\u001b[0m",
      "\u001b[1;31mNameError\u001b[0m: name 'datasets_AgglomerativeClustering' is not defined"
     ]
    }
   ],
   "source": [
    "# Load the dataset \n",
    "df = datasets_AgglomerativeClustering()"
   ]
  },
  {
   "cell_type": "code",
   "execution_count": 7,
   "id": "94320e18",
   "metadata": {},
   "outputs": [
    {
     "ename": "AttributeError",
     "evalue": "'AgglomerativeClustering' object has no attribute 'head'",
     "output_type": "error",
     "traceback": [
      "\u001b[1;31m---------------------------------------------------------------------------\u001b[0m",
      "\u001b[1;31mAttributeError\u001b[0m                            Traceback (most recent call last)",
      "\u001b[1;32m~\\AppData\\Local\\Temp/ipykernel_15716/964094849.py\u001b[0m in \u001b[0;36m<module>\u001b[1;34m\u001b[0m\n\u001b[1;32m----> 1\u001b[1;33m \u001b[0mdf\u001b[0m\u001b[1;33m.\u001b[0m\u001b[0mhead\u001b[0m\u001b[1;33m(\u001b[0m\u001b[1;33m)\u001b[0m\u001b[1;33m\u001b[0m\u001b[1;33m\u001b[0m\u001b[0m\n\u001b[0m",
      "\u001b[1;31mAttributeError\u001b[0m: 'AgglomerativeClustering' object has no attribute 'head'"
     ]
    }
   ],
   "source": [
    "df.head()"
   ]
  },
  {
   "cell_type": "code",
   "execution_count": 23,
   "id": "47335020",
   "metadata": {},
   "outputs": [
    {
     "data": {
      "text/plain": [
       "['Age',\n",
       " 'Sex',\n",
       " 'ALB',\n",
       " 'ALP',\n",
       " 'ALT',\n",
       " 'AST',\n",
       " 'BIL',\n",
       " 'CHE',\n",
       " 'CHOL',\n",
       " 'CREA',\n",
       " 'GGT',\n",
       " 'PROT']"
      ]
     },
     "execution_count": 23,
     "metadata": {},
     "output_type": "execute_result"
    }
   ],
   "source": [
    "# To-Do : We will select only the columns to work with = all columns except the id and the Category \n"
   ]
  },
  {
   "cell_type": "markdown",
   "id": "04fd08a2",
   "metadata": {},
   "source": [
    "## 2. Build the clusting model and cluster the data \n",
    "1. Build the model \n",
    "2. Fit the model to the data \n",
    "3. Cluster all data points and add that as a column"
   ]
  },
  {
   "cell_type": "code",
   "execution_count": 29,
   "id": "42acfe5f",
   "metadata": {},
   "outputs": [],
   "source": [
    "# To-Do: set the number of clusters to be equal to the number of classes ( categories)\n",
    "n_clusters = "
   ]
  },
  {
   "cell_type": "code",
   "execution_count": 30,
   "id": "e8ed9f57",
   "metadata": {},
   "outputs": [],
   "source": [
    "# define the model\n",
    "model = AgglomerativeClustering(n_clusters=n_clusters)"
   ]
  },
  {
   "cell_type": "code",
   "execution_count": 31,
   "id": "99af4de2",
   "metadata": {},
   "outputs": [],
   "source": [
    "#To-Do : fit model and predict clusters\n",
    "yhat = "
   ]
  },
  {
   "cell_type": "code",
   "execution_count": 36,
   "id": "f22d0ffc",
   "metadata": {},
   "outputs": [],
   "source": [
    "# To-Do :Add the cluster as a column to the data frame \n",
    "df['cluster'] = "
   ]
  },
  {
   "cell_type": "markdown",
   "id": "2344ab64",
   "metadata": {},
   "source": [
    "## 3. Save the new dataset with the additional column "
   ]
  },
  {
   "cell_type": "code",
   "execution_count": 1,
   "id": "47bee1c0",
   "metadata": {},
   "outputs": [],
   "source": [
    "# To-Do save the file , Do not forget to drop the index \n"
   ]
  },
  {
   "cell_type": "code",
   "execution_count": null,
   "id": "e4748899",
   "metadata": {},
   "outputs": [],
   "source": []
  }
 ],
 "metadata": {
  "kernelspec": {
   "display_name": "Python 3 (ipykernel)",
   "language": "python",
   "name": "python3"
  },
  "language_info": {
   "codemirror_mode": {
    "name": "ipython",
    "version": 3
   },
   "file_extension": ".py",
   "mimetype": "text/x-python",
   "name": "python",
   "nbconvert_exporter": "python",
   "pygments_lexer": "ipython3",
   "version": "3.9.7"
  }
 },
 "nbformat": 4,
 "nbformat_minor": 5
}
